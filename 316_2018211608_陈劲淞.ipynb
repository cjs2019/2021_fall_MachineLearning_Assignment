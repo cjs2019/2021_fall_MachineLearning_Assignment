{
  "nbformat": 4,
  "nbformat_minor": 0,
  "metadata": {
    "colab": {
      "name": "316-2018211608-陈劲淞",
      "provenance": [],
      "collapsed_sections": [],
      "authorship_tag": "ABX9TyOiuKkad3vjU3k+QqOGsaCJ",
      "include_colab_link": true
    },
    "kernelspec": {
      "name": "python3",
      "display_name": "Python 3"
    },
    "language_info": {
      "name": "python"
    }
  },
  "cells": [
    {
      "cell_type": "markdown",
      "metadata": {
        "id": "view-in-github",
        "colab_type": "text"
      },
      "source": [
        "<a href=\"https://colab.research.google.com/github/cjs2019/2021_fall_MachineLearning_Assignment/blob/main/316_2018211608_%E9%99%88%E5%8A%B2%E6%B7%9E.ipynb\" target=\"_parent\"><img src=\"https://colab.research.google.com/assets/colab-badge.svg\" alt=\"Open In Colab\"/></a>"
      ]
    },
    {
      "cell_type": "code",
      "metadata": {
        "id": "Dym6btnSjlGT"
      },
      "source": [
        "# assignment for Machine Learning \n",
        "# by ChenJinsong-2018211608, Class 2019211316\n",
        "# reference: Statistical Learning Method 2nd edition\n",
        "\n",
        "# homework_01 includes Question 5.1 and 5.2\n",
        "# date == 20211030"
      ],
      "execution_count": null,
      "outputs": []
    },
    {
      "cell_type": "code",
      "metadata": {
        "id": "3wDYAoCXjo70"
      },
      "source": [
        "import numpy as np\n",
        "import pandas as pd\n",
        "\n",
        "from math import log\n",
        "\n",
        "import matplotlib.pyplot as plt\n",
        "\n",
        "from sklearn.datasets import load_iris\n",
        "from sklearn.model_selection import train_test_split\n",
        "from sklearn import preprocessing\n",
        "from sklearn import tree\n",
        "import graphviz\n",
        "\n",
        "from collections import Counter\n",
        "\n"
      ],
      "execution_count": null,
      "outputs": []
    },
    {
      "cell_type": "code",
      "metadata": {
        "id": "pPp6jQr9j1oP"
      },
      "source": [
        "# Question 5.1\n",
        "def create_data():\n",
        "    datasets = [['青年', '否', '否', '一般', '否'],\n",
        "               ['青年', '否', '否', '好', '否'],\n",
        "               ['青年', '是', '否', '好', '是'],\n",
        "               ['青年', '是', '是', '一般', '是'],\n",
        "               ['青年', '否', '否', '一般', '否'],\n",
        "               ['中年', '否', '否', '一般', '否'],\n",
        "               ['中年', '否', '否', '好', '否'],\n",
        "               ['中年', '是', '是', '好', '是'],\n",
        "               ['中年', '否', '是', '非常好', '是'],\n",
        "               ['中年', '否', '是', '非常好', '是'],\n",
        "               ['老年', '否', '是', '非常好', '是'],\n",
        "               ['老年', '否', '是', '好', '是'],\n",
        "               ['老年', '是', '否', '好', '是'],\n",
        "               ['老年', '是', '否', '非常好', '是'],\n",
        "               ['老年', '否', '否', '一般', '否'],\n",
        "               ]\n",
        "    labels = [u'年龄', u'有工作', u'有自己的房子', u'信贷情况', u'类别']\n",
        "    # 返回数据集和每个维度的名称\n",
        "    return datasets, labels"
      ],
      "execution_count": null,
      "outputs": []
    },
    {
      "cell_type": "code",
      "metadata": {
        "id": "SnxmPjaRj14t"
      },
      "source": [
        "datasets, labels = create_data()"
      ],
      "execution_count": null,
      "outputs": []
    },
    {
      "cell_type": "code",
      "metadata": {
        "id": "Fn9AujAoj3fo"
      },
      "source": [
        "train_data = pd.DataFrame(datasets, columns=labels)"
      ],
      "execution_count": null,
      "outputs": []
    },
    {
      "cell_type": "code",
      "metadata": {
        "colab": {
          "base_uri": "https://localhost:8080/",
          "height": 504
        },
        "id": "f_gTzH4qj4nY",
        "outputId": "53d86554-09ae-4fcd-a959-8aea43fa53bc"
      },
      "source": [
        "train_data"
      ],
      "execution_count": null,
      "outputs": [
        {
          "output_type": "execute_result",
          "data": {
            "text/html": [
              "<div>\n",
              "<style scoped>\n",
              "    .dataframe tbody tr th:only-of-type {\n",
              "        vertical-align: middle;\n",
              "    }\n",
              "\n",
              "    .dataframe tbody tr th {\n",
              "        vertical-align: top;\n",
              "    }\n",
              "\n",
              "    .dataframe thead th {\n",
              "        text-align: right;\n",
              "    }\n",
              "</style>\n",
              "<table border=\"1\" class=\"dataframe\">\n",
              "  <thead>\n",
              "    <tr style=\"text-align: right;\">\n",
              "      <th></th>\n",
              "      <th>年龄</th>\n",
              "      <th>有工作</th>\n",
              "      <th>有自己的房子</th>\n",
              "      <th>信贷情况</th>\n",
              "      <th>类别</th>\n",
              "    </tr>\n",
              "  </thead>\n",
              "  <tbody>\n",
              "    <tr>\n",
              "      <th>0</th>\n",
              "      <td>青年</td>\n",
              "      <td>否</td>\n",
              "      <td>否</td>\n",
              "      <td>一般</td>\n",
              "      <td>否</td>\n",
              "    </tr>\n",
              "    <tr>\n",
              "      <th>1</th>\n",
              "      <td>青年</td>\n",
              "      <td>否</td>\n",
              "      <td>否</td>\n",
              "      <td>好</td>\n",
              "      <td>否</td>\n",
              "    </tr>\n",
              "    <tr>\n",
              "      <th>2</th>\n",
              "      <td>青年</td>\n",
              "      <td>是</td>\n",
              "      <td>否</td>\n",
              "      <td>好</td>\n",
              "      <td>是</td>\n",
              "    </tr>\n",
              "    <tr>\n",
              "      <th>3</th>\n",
              "      <td>青年</td>\n",
              "      <td>是</td>\n",
              "      <td>是</td>\n",
              "      <td>一般</td>\n",
              "      <td>是</td>\n",
              "    </tr>\n",
              "    <tr>\n",
              "      <th>4</th>\n",
              "      <td>青年</td>\n",
              "      <td>否</td>\n",
              "      <td>否</td>\n",
              "      <td>一般</td>\n",
              "      <td>否</td>\n",
              "    </tr>\n",
              "    <tr>\n",
              "      <th>5</th>\n",
              "      <td>中年</td>\n",
              "      <td>否</td>\n",
              "      <td>否</td>\n",
              "      <td>一般</td>\n",
              "      <td>否</td>\n",
              "    </tr>\n",
              "    <tr>\n",
              "      <th>6</th>\n",
              "      <td>中年</td>\n",
              "      <td>否</td>\n",
              "      <td>否</td>\n",
              "      <td>好</td>\n",
              "      <td>否</td>\n",
              "    </tr>\n",
              "    <tr>\n",
              "      <th>7</th>\n",
              "      <td>中年</td>\n",
              "      <td>是</td>\n",
              "      <td>是</td>\n",
              "      <td>好</td>\n",
              "      <td>是</td>\n",
              "    </tr>\n",
              "    <tr>\n",
              "      <th>8</th>\n",
              "      <td>中年</td>\n",
              "      <td>否</td>\n",
              "      <td>是</td>\n",
              "      <td>非常好</td>\n",
              "      <td>是</td>\n",
              "    </tr>\n",
              "    <tr>\n",
              "      <th>9</th>\n",
              "      <td>中年</td>\n",
              "      <td>否</td>\n",
              "      <td>是</td>\n",
              "      <td>非常好</td>\n",
              "      <td>是</td>\n",
              "    </tr>\n",
              "    <tr>\n",
              "      <th>10</th>\n",
              "      <td>老年</td>\n",
              "      <td>否</td>\n",
              "      <td>是</td>\n",
              "      <td>非常好</td>\n",
              "      <td>是</td>\n",
              "    </tr>\n",
              "    <tr>\n",
              "      <th>11</th>\n",
              "      <td>老年</td>\n",
              "      <td>否</td>\n",
              "      <td>是</td>\n",
              "      <td>好</td>\n",
              "      <td>是</td>\n",
              "    </tr>\n",
              "    <tr>\n",
              "      <th>12</th>\n",
              "      <td>老年</td>\n",
              "      <td>是</td>\n",
              "      <td>否</td>\n",
              "      <td>好</td>\n",
              "      <td>是</td>\n",
              "    </tr>\n",
              "    <tr>\n",
              "      <th>13</th>\n",
              "      <td>老年</td>\n",
              "      <td>是</td>\n",
              "      <td>否</td>\n",
              "      <td>非常好</td>\n",
              "      <td>是</td>\n",
              "    </tr>\n",
              "    <tr>\n",
              "      <th>14</th>\n",
              "      <td>老年</td>\n",
              "      <td>否</td>\n",
              "      <td>否</td>\n",
              "      <td>一般</td>\n",
              "      <td>否</td>\n",
              "    </tr>\n",
              "  </tbody>\n",
              "</table>\n",
              "</div>"
            ],
            "text/plain": [
              "    年龄 有工作 有自己的房子 信贷情况 类别\n",
              "0   青年   否      否   一般  否\n",
              "1   青年   否      否    好  否\n",
              "2   青年   是      否    好  是\n",
              "3   青年   是      是   一般  是\n",
              "4   青年   否      否   一般  否\n",
              "5   中年   否      否   一般  否\n",
              "6   中年   否      否    好  否\n",
              "7   中年   是      是    好  是\n",
              "8   中年   否      是  非常好  是\n",
              "9   中年   否      是  非常好  是\n",
              "10  老年   否      是  非常好  是\n",
              "11  老年   否      是    好  是\n",
              "12  老年   是      否    好  是\n",
              "13  老年   是      否  非常好  是\n",
              "14  老年   否      否   一般  否"
            ]
          },
          "metadata": {},
          "execution_count": 9
        }
      ]
    },
    {
      "cell_type": "code",
      "metadata": {
        "id": "UsblON0Uj5oL"
      },
      "source": [
        "# entropy\n",
        "def calculate_entropy(datasets):\n",
        "    data_length = len(datasets)\n",
        "    label_count = {}\n",
        "    for i in range(data_length):\n",
        "        label = datasets[i][-1]\n",
        "        if label not in label_count:\n",
        "            label_count[label] = 0\n",
        "        label_count[label] += 1\n",
        "    entropy = -sum([(p/data_length)*log(p/data_length, 2) for p in label_count.values()])\n",
        "    return entropy\n",
        "\n",
        "\n",
        "# conditional entropy\n",
        "def conditional_entropy(datasets, axis=0):\n",
        "    data_length = len(datasets)\n",
        "    feature_sets = {}\n",
        "    for i in range(data_length):\n",
        "        feature = datasets[i][axis]\n",
        "        if feature not in feature_sets:\n",
        "            feature_sets[feature] = []\n",
        "        feature_sets[feature].append(datasets[i])\n",
        "    conditional_entropy = sum([(len(p)/data_length)*calculate_entropy(p) for p in feature_sets.values()])\n",
        "    return conditional_entropy\n",
        "\n",
        "\n",
        "# infomation gain\n",
        "def info_gain(entropy, conditional_entropy):\n",
        "    return (entropy - conditional_entropy)\n",
        "\n",
        "def info_gain_train(datasets):\n",
        "    count = len(datasets[0]) - 1\n",
        "    entropy = calculate_entropy(datasets)\n",
        "    best_feature = []\n",
        "    for c in range(count):\n",
        "        c_info_gain = info_gain(entropy, conditional_entropy(datasets, axis=c))\n",
        "        best_feature.append((c, c_info_gain))\n",
        "        print(\"特征({}) --- info_gain --- {:.4f}\".format(labels[c], c_info_gain))\n",
        "        \n",
        "    # compare\n",
        "    best_ = max(best_feature, key=lambda x: x[-1])\n",
        "    return \"特征({})的信息增益最大，选择为根节点特征\".format(labels[best_[0]])\n",
        "        \n",
        "    "
      ],
      "execution_count": null,
      "outputs": []
    },
    {
      "cell_type": "code",
      "metadata": {
        "colab": {
          "base_uri": "https://localhost:8080/",
          "height": 100
        },
        "id": "W-tydgPEj7F5",
        "outputId": "c17c7ee7-a8e7-41c0-fe38-88b5535e1886"
      },
      "source": [
        "info_gain_train(np.array(datasets))"
      ],
      "execution_count": null,
      "outputs": [
        {
          "output_type": "stream",
          "name": "stdout",
          "text": [
            "特征(年龄) --- info_gain --- 0.0830\n",
            "特征(有工作) --- info_gain --- 0.3237\n",
            "特征(有自己的房子) --- info_gain --- 0.4200\n",
            "特征(信贷情况) --- info_gain --- 0.3630\n"
          ]
        },
        {
          "output_type": "execute_result",
          "data": {
            "application/vnd.google.colaboratory.intrinsic+json": {
              "type": "string"
            },
            "text/plain": [
              "'特征(有自己的房子)的信息增益最大，选择为根节点特征'"
            ]
          },
          "metadata": {},
          "execution_count": 17
        }
      ]
    },
    {
      "cell_type": "code",
      "metadata": {
        "colab": {
          "base_uri": "https://localhost:8080/",
          "height": 438
        },
        "id": "I6Vho3vXj8l-",
        "outputId": "c11f30d7-f609-4b49-d778-647b7f5dc075"
      },
      "source": [
        "from sklearn.tree import DecisionTreeClassifier\n",
        "from sklearn import preprocessing\n",
        "import numpy as np\n",
        "import pandas as pd\n",
        "\n",
        "from sklearn import tree\n",
        "import graphviz\n",
        "\n",
        "features = [\"年龄\", \"有工作\", \"有自己的房子\", \"信贷情况\"]\n",
        "X_train = pd.DataFrame([\n",
        "    [\"青年\", \"否\", \"否\", \"一般\"],\n",
        "    [\"青年\", \"否\", \"否\", \"好\"],\n",
        "    [\"青年\", \"是\", \"否\", \"好\"],\n",
        "    [\"青年\", \"是\", \"是\", \"一般\"],\n",
        "    [\"青年\", \"否\", \"否\", \"一般\"],\n",
        "    [\"中年\", \"否\", \"否\", \"一般\"],\n",
        "    [\"中年\", \"否\", \"否\", \"好\"],\n",
        "    [\"中年\", \"是\", \"是\", \"好\"],\n",
        "    [\"中年\", \"否\", \"是\", \"非常好\"],\n",
        "    [\"中年\", \"否\", \"是\", \"非常好\"],\n",
        "    [\"老年\", \"否\", \"是\", \"非常好\"],\n",
        "    [\"老年\", \"否\", \"是\", \"好\"],\n",
        "    [\"老年\", \"是\", \"否\", \"好\"],\n",
        "    [\"老年\", \"是\", \"否\", \"非常好\"],\n",
        "    [\"老年\", \"否\", \"否\", \"一般\"]\n",
        "])\n",
        "y_train = pd.DataFrame([\"否\", \"否\", \"是\", \"是\", \"否\", \n",
        "                        \"否\", \"否\", \"是\", \"是\", \"是\", \n",
        "                        \"是\", \"是\", \"是\", \"是\", \"否\"])\n",
        "# 数据预处理\n",
        "le_x = preprocessing.LabelEncoder()\n",
        "le_x.fit(np.unique(X_train))\n",
        "X_train = X_train.apply(le_x.transform)\n",
        "le_y = preprocessing.LabelEncoder()\n",
        "le_y.fit(np.unique(y_train))\n",
        "y_train = y_train.apply(le_y.transform)\n",
        "# 调用sklearn.DT建立训练模型\n",
        "model_tree = DecisionTreeClassifier()\n",
        "model_tree.fit(X_train, y_train)\n",
        "\n",
        "# 可视化\n",
        "dot_data = tree.export_graphviz(model_tree, out_file=None,\n",
        "                                    feature_names=features,\n",
        "                                    class_names=[str(k) for k in np.unique(y_train)],\n",
        "                                    filled=True, rounded=True,\n",
        "                                    special_characters=True)\n",
        "graph = graphviz.Source(dot_data)\n",
        "graph"
      ],
      "execution_count": null,
      "outputs": [
        {
          "output_type": "execute_result",
          "data": {
            "text/plain": [
              "<graphviz.files.Source at 0x7fcb59eb8a10>"
            ],
            "image/svg+xml": "<?xml version=\"1.0\" encoding=\"UTF-8\" standalone=\"no\"?>\n<!DOCTYPE svg PUBLIC \"-//W3C//DTD SVG 1.1//EN\"\n \"http://www.w3.org/Graphics/SVG/1.1/DTD/svg11.dtd\">\n<!-- Generated by graphviz version 2.40.1 (20161225.0304)\n -->\n<!-- Title: Tree Pages: 1 -->\n<svg width=\"282pt\" height=\"314pt\"\n viewBox=\"0.00 0.00 282.00 314.00\" xmlns=\"http://www.w3.org/2000/svg\" xmlns:xlink=\"http://www.w3.org/1999/xlink\">\n<g id=\"graph0\" class=\"graph\" transform=\"scale(1 1) rotate(0) translate(4 310)\">\n<title>Tree</title>\n<polygon fill=\"#ffffff\" stroke=\"transparent\" points=\"-4,4 -4,-310 278,-310 278,4 -4,4\"/>\n<!-- 0 -->\n<g id=\"node1\" class=\"node\">\n<title>0</title>\n<path fill=\"#bddef6\" stroke=\"#000000\" d=\"M222,-306C222,-306 109,-306 109,-306 103,-306 97,-300 97,-294 97,-294 97,-235 97,-235 97,-229 103,-223 109,-223 109,-223 222,-223 222,-223 228,-223 234,-229 234,-235 234,-235 234,-294 234,-294 234,-300 228,-306 222,-306\"/>\n<text text-anchor=\"start\" x=\"105\" y=\"-290.8\" font-family=\"Helvetica,sans-Serif\" font-size=\"14.00\" fill=\"#000000\">有自己的房子 ≤ 3.0</text>\n<text text-anchor=\"start\" x=\"132\" y=\"-275.8\" font-family=\"Helvetica,sans-Serif\" font-size=\"14.00\" fill=\"#000000\">gini = 0.48</text>\n<text text-anchor=\"start\" x=\"121.5\" y=\"-260.8\" font-family=\"Helvetica,sans-Serif\" font-size=\"14.00\" fill=\"#000000\">samples = 15</text>\n<text text-anchor=\"start\" x=\"124\" y=\"-245.8\" font-family=\"Helvetica,sans-Serif\" font-size=\"14.00\" fill=\"#000000\">value = [6, 9]</text>\n<text text-anchor=\"start\" x=\"136.5\" y=\"-230.8\" font-family=\"Helvetica,sans-Serif\" font-size=\"14.00\" fill=\"#000000\">class = 1</text>\n</g>\n<!-- 1 -->\n<g id=\"node2\" class=\"node\">\n<title>1</title>\n<path fill=\"#f2c09c\" stroke=\"#000000\" d=\"M145,-187C145,-187 70,-187 70,-187 64,-187 58,-181 58,-175 58,-175 58,-116 58,-116 58,-110 64,-104 70,-104 70,-104 145,-104 145,-104 151,-104 157,-110 157,-116 157,-116 157,-175 157,-175 157,-181 151,-187 145,-187\"/>\n<text text-anchor=\"start\" x=\"68\" y=\"-171.8\" font-family=\"Helvetica,sans-Serif\" font-size=\"14.00\" fill=\"#000000\">有工作 ≤ 3.0</text>\n<text text-anchor=\"start\" x=\"69.5\" y=\"-156.8\" font-family=\"Helvetica,sans-Serif\" font-size=\"14.00\" fill=\"#000000\">gini = 0.444</text>\n<text text-anchor=\"start\" x=\"68\" y=\"-141.8\" font-family=\"Helvetica,sans-Serif\" font-size=\"14.00\" fill=\"#000000\">samples = 9</text>\n<text text-anchor=\"start\" x=\"66\" y=\"-126.8\" font-family=\"Helvetica,sans-Serif\" font-size=\"14.00\" fill=\"#000000\">value = [6, 3]</text>\n<text text-anchor=\"start\" x=\"78.5\" y=\"-111.8\" font-family=\"Helvetica,sans-Serif\" font-size=\"14.00\" fill=\"#000000\">class = 0</text>\n</g>\n<!-- 0&#45;&gt;1 -->\n<g id=\"edge1\" class=\"edge\">\n<title>0&#45;&gt;1</title>\n<path fill=\"none\" stroke=\"#000000\" d=\"M145.2144,-222.8796C141.0443,-214.3236 136.6091,-205.2238 132.3003,-196.3833\"/>\n<polygon fill=\"#000000\" stroke=\"#000000\" points=\"135.3997,-194.7538 127.8722,-187.2981 129.1073,-197.8207 135.3997,-194.7538\"/>\n<text text-anchor=\"middle\" x=\"119.7265\" y=\"-207.2338\" font-family=\"Helvetica,sans-Serif\" font-size=\"14.00\" fill=\"#000000\">True</text>\n</g>\n<!-- 4 -->\n<g id=\"node5\" class=\"node\">\n<title>4</title>\n<path fill=\"#399de5\" stroke=\"#000000\" d=\"M262,-179.5C262,-179.5 187,-179.5 187,-179.5 181,-179.5 175,-173.5 175,-167.5 175,-167.5 175,-123.5 175,-123.5 175,-117.5 181,-111.5 187,-111.5 187,-111.5 262,-111.5 262,-111.5 268,-111.5 274,-117.5 274,-123.5 274,-123.5 274,-167.5 274,-167.5 274,-173.5 268,-179.5 262,-179.5\"/>\n<text text-anchor=\"start\" x=\"195\" y=\"-164.3\" font-family=\"Helvetica,sans-Serif\" font-size=\"14.00\" fill=\"#000000\">gini = 0.0</text>\n<text text-anchor=\"start\" x=\"185\" y=\"-149.3\" font-family=\"Helvetica,sans-Serif\" font-size=\"14.00\" fill=\"#000000\">samples = 6</text>\n<text text-anchor=\"start\" x=\"183\" y=\"-134.3\" font-family=\"Helvetica,sans-Serif\" font-size=\"14.00\" fill=\"#000000\">value = [0, 6]</text>\n<text text-anchor=\"start\" x=\"195.5\" y=\"-119.3\" font-family=\"Helvetica,sans-Serif\" font-size=\"14.00\" fill=\"#000000\">class = 1</text>\n</g>\n<!-- 0&#45;&gt;4 -->\n<g id=\"edge4\" class=\"edge\">\n<title>0&#45;&gt;4</title>\n<path fill=\"none\" stroke=\"#000000\" d=\"M186.1353,-222.8796C191.5872,-211.8835 197.4843,-199.9893 202.9816,-188.9015\"/>\n<polygon fill=\"#000000\" stroke=\"#000000\" points=\"206.1804,-190.3289 207.4867,-179.8149 199.9089,-187.2195 206.1804,-190.3289\"/>\n<text text-anchor=\"middle\" x=\"215.4722\" y=\"-199.8053\" font-family=\"Helvetica,sans-Serif\" font-size=\"14.00\" fill=\"#000000\">False</text>\n</g>\n<!-- 2 -->\n<g id=\"node3\" class=\"node\">\n<title>2</title>\n<path fill=\"#e58139\" stroke=\"#000000\" d=\"M87,-68C87,-68 12,-68 12,-68 6,-68 0,-62 0,-56 0,-56 0,-12 0,-12 0,-6 6,0 12,0 12,0 87,0 87,0 93,0 99,-6 99,-12 99,-12 99,-56 99,-56 99,-62 93,-68 87,-68\"/>\n<text text-anchor=\"start\" x=\"20\" y=\"-52.8\" font-family=\"Helvetica,sans-Serif\" font-size=\"14.00\" fill=\"#000000\">gini = 0.0</text>\n<text text-anchor=\"start\" x=\"10\" y=\"-37.8\" font-family=\"Helvetica,sans-Serif\" font-size=\"14.00\" fill=\"#000000\">samples = 6</text>\n<text text-anchor=\"start\" x=\"8\" y=\"-22.8\" font-family=\"Helvetica,sans-Serif\" font-size=\"14.00\" fill=\"#000000\">value = [6, 0]</text>\n<text text-anchor=\"start\" x=\"20.5\" y=\"-7.8\" font-family=\"Helvetica,sans-Serif\" font-size=\"14.00\" fill=\"#000000\">class = 0</text>\n</g>\n<!-- 1&#45;&gt;2 -->\n<g id=\"edge2\" class=\"edge\">\n<title>1&#45;&gt;2</title>\n<path fill=\"none\" stroke=\"#000000\" d=\"M85.9029,-103.9815C81.3612,-95.2504 76.5598,-86.0202 71.9863,-77.2281\"/>\n<polygon fill=\"#000000\" stroke=\"#000000\" points=\"75.0431,-75.52 67.3233,-68.2637 68.8331,-78.7504 75.0431,-75.52\"/>\n</g>\n<!-- 3 -->\n<g id=\"node4\" class=\"node\">\n<title>3</title>\n<path fill=\"#399de5\" stroke=\"#000000\" d=\"M204,-68C204,-68 129,-68 129,-68 123,-68 117,-62 117,-56 117,-56 117,-12 117,-12 117,-6 123,0 129,0 129,0 204,0 204,0 210,0 216,-6 216,-12 216,-12 216,-56 216,-56 216,-62 210,-68 204,-68\"/>\n<text text-anchor=\"start\" x=\"137\" y=\"-52.8\" font-family=\"Helvetica,sans-Serif\" font-size=\"14.00\" fill=\"#000000\">gini = 0.0</text>\n<text text-anchor=\"start\" x=\"127\" y=\"-37.8\" font-family=\"Helvetica,sans-Serif\" font-size=\"14.00\" fill=\"#000000\">samples = 3</text>\n<text text-anchor=\"start\" x=\"125\" y=\"-22.8\" font-family=\"Helvetica,sans-Serif\" font-size=\"14.00\" fill=\"#000000\">value = [0, 3]</text>\n<text text-anchor=\"start\" x=\"137.5\" y=\"-7.8\" font-family=\"Helvetica,sans-Serif\" font-size=\"14.00\" fill=\"#000000\">class = 1</text>\n</g>\n<!-- 1&#45;&gt;3 -->\n<g id=\"edge3\" class=\"edge\">\n<title>1&#45;&gt;3</title>\n<path fill=\"none\" stroke=\"#000000\" d=\"M129.4694,-103.9815C134.0895,-95.2504 138.9736,-86.0202 143.626,-77.2281\"/>\n<polygon fill=\"#000000\" stroke=\"#000000\" points=\"146.7859,-78.7395 148.3694,-68.2637 140.5987,-75.4655 146.7859,-78.7395\"/>\n</g>\n</g>\n</svg>\n"
          },
          "metadata": {},
          "execution_count": 19
        }
      ]
    },
    {
      "cell_type": "code",
      "metadata": {
        "id": "wXgaisXQlT83"
      },
      "source": [
        "# Question 5.2"
      ],
      "execution_count": null,
      "outputs": []
    },
    {
      "cell_type": "code",
      "metadata": {
        "id": "oMPgbT67k8Bw"
      },
      "source": [
        "import numpy as np\n",
        "\n",
        "class LeastSqRTree:\n",
        "    def __init__(self, train_X, y, epsilon):\n",
        "        # 训练集特征值\n",
        "        self.x = train_X\n",
        "        # 类别\n",
        "        self.y = y\n",
        "        # 特征总数\n",
        "        self.feature_count = train_X.shape[1]\n",
        "        # 损失阈值\n",
        "        self.epsilon = epsilon\n",
        "        # 回归树\n",
        "        self.tree = None\n",
        "\n",
        "    def _fit(self, x, y, feature_count, epsilon):\n",
        "        # 选择最优切分点变量j与切分点s\n",
        "        (j, s, minval, c1, c2) = self._divide(x, y, feature_count)\n",
        "        # 初始化树\n",
        "        tree = {\"feature\": j, \"value\": x[s, j], \"left\": None, \"right\": None}\n",
        "        if minval < self.epsilon or len(y[np.where(x[:, j] <= x[s, j])]) <= 1:\n",
        "            tree[\"left\"] = c1\n",
        "        else:\n",
        "            tree[\"left\"] = self._fit(x[np.where(x[:, j] <= x[s, j])],\n",
        "                                     y[np.where(x[:, j] <= x[s, j])],\n",
        "                                     self.feature_count, self.epsilon)\n",
        "        if minval < self.epsilon or len(y[np.where(x[:, j] > s)]) <= 1:\n",
        "            tree[\"right\"] = c2\n",
        "        else:\n",
        "            tree[\"right\"] = self._fit(x[np.where(x[:, j] > x[s, j])],\n",
        "                                      y[np.where(x[:, j] > x[s, j])],\n",
        "                                      self.feature_count, self.epsilon)\n",
        "        return tree\n",
        "\n",
        "    def fit(self):\n",
        "        self.tree = self._fit(self.x, self.y, self.feature_count, self.epsilon)\n",
        "\n",
        "    @staticmethod\n",
        "    def _divide(x, y, feature_count):\n",
        "        # 初始化损失误差\n",
        "        cost = np.zeros((feature_count, len(x)))\n",
        "        # 公式5.21\n",
        "        for i in range(feature_count):\n",
        "            for k in range(len(x)):\n",
        "                # k行i列的特征值\n",
        "                value = x[k, i]\n",
        "                y1 = y[np.where(x[:, i] <= value)]\n",
        "                c1 = np.mean(y1)\n",
        "                y2 = y[np.where(x[:, i] > value)]\n",
        "                c2 = np.mean(y2)\n",
        "                y1[:] = y1[:] - c1\n",
        "                y2[:] = y2[:] - c2\n",
        "                cost[i, k] = np.sum(y1 * y1) + np.sum(y2 * y2)\n",
        "        # 选取最优损失误差点\n",
        "        cost_index = np.where(cost == np.min(cost))\n",
        "        # 选取第几个特征值\n",
        "        j = cost_index[0][0]\n",
        "        # 选取特征值的切分点\n",
        "        s = cost_index[1][0]\n",
        "        # 求两个区域的均值c1,c2\n",
        "        c1 = np.mean(y[np.where(x[:, j] <= x[s, j])])\n",
        "        c2 = np.mean(y[np.where(x[:, j] > x[s, j])])\n",
        "        return j, s, cost[cost_index], c1, c2"
      ],
      "execution_count": null,
      "outputs": []
    },
    {
      "cell_type": "code",
      "metadata": {
        "colab": {
          "base_uri": "https://localhost:8080/"
        },
        "id": "on0ZlNMvkMpL",
        "outputId": "977aea0d-bc5e-4251-e08a-24ff4c578572"
      },
      "source": [
        "train_X = np.array([[1, 2, 3, 4, 5, 6, 7, 8, 9, 10]]).T\n",
        "y = np.array([4.50, 4.75, 4.91, 5.34, 5.80, 7.05, 7.90, 8.23, 8.70, 9.00])\n",
        "\n",
        "model_tree = LeastSqRTree(train_X, y, .2)\n",
        "model_tree.fit()\n",
        "model_tree.tree"
      ],
      "execution_count": null,
      "outputs": [
        {
          "output_type": "stream",
          "name": "stderr",
          "text": [
            "/usr/local/lib/python3.7/dist-packages/numpy/core/fromnumeric.py:3373: RuntimeWarning: Mean of empty slice.\n",
            "  out=out, **kwargs)\n",
            "/usr/local/lib/python3.7/dist-packages/numpy/core/_methods.py:170: RuntimeWarning: invalid value encountered in double_scalars\n",
            "  ret = ret.dtype.type(ret / rcount)\n"
          ]
        },
        {
          "output_type": "execute_result",
          "data": {
            "text/plain": [
              "{'feature': 0,\n",
              " 'left': {'feature': 0, 'left': 4.72, 'right': 5.57, 'value': 3},\n",
              " 'right': {'feature': 0,\n",
              "  'left': {'feature': 0, 'left': 7.05, 'right': 7.9, 'value': 6},\n",
              "  'right': {'feature': 0, 'left': 8.23, 'right': 8.85, 'value': 8},\n",
              "  'value': 7},\n",
              " 'value': 5}"
            ]
          },
          "metadata": {},
          "execution_count": 33
        }
      ]
    },
    {
      "cell_type": "markdown",
      "metadata": {
        "id": "D4DuDKCBloDX"
      },
      "source": [
        "根据上面程序的输出，可得到用平方误差损失准则生成一个二叉回归树：$$f(x)=\\begin{cases}\n",
        "4.72 & x \\le 3\\\\\n",
        "5.57 & 3 < x \\le 5\\\\\n",
        "7.05 & 5 < x \\le 6\\\\\n",
        "7.9 & 6 < x \\le 7 \\\\\n",
        "8.23 & 7 < x \\le 8\\\\\n",
        "8.85 & x > 8\\\\\n",
        "\\end{cases}$$"
      ]
    },
    {
      "cell_type": "code",
      "metadata": {
        "id": "Crwe4eiclkfM"
      },
      "source": [
        ""
      ],
      "execution_count": null,
      "outputs": []
    }
  ]
}